{
  "nbformat": 4,
  "nbformat_minor": 0,
  "metadata": {
    "colab": {
      "name": "SimpleLinearRegression.ipynb",
      "provenance": [],
      "collapsed_sections": [
        "-gF5KxCCk1O9"
      ]
    },
    "kernelspec": {
      "name": "python3",
      "display_name": "Python 3"
    }
  },
  "cells": [
    {
      "cell_type": "markdown",
      "metadata": {
        "id": "h9x9FZSza9XX",
        "colab_type": "text"
      },
      "source": [
        "# **SIMPLE LINEAR REGRESSION**\n",
        "\n",
        "\n",
        "---\n",
        "\n",
        "\n",
        "Pada notebook kali ini, kita akan mempelajari tentang *simple linear regression*. *Linear Regression* atau Regresi Linier adalah salah satu metode *supervised learning* dalam *machine learning*. Berbeda dengan metode klasifikasi yang memprediksi kelas atau kategori sebuah item, regresi linier berfungsi untuk memprediksi sebuah nilai berdasarkan atribut yang tersedia. Yang diprediksi adalah sejauh mana hubungan sebab akibat antara Variabel Faktor Penyebab (x) terhadap variabel akibat (y)."
      ]
    },
    {
      "cell_type": "markdown",
      "metadata": {
        "id": "mAcc3vsfdjtU",
        "colab_type": "text"
      },
      "source": [
        "Apabila variabel bebasnya hanya satu, maka analisis regresinya menggunakan regresi linier sederhana. Apabila variabel bebasnya lebih dari satu, maka analisis regresinya menggunakan regresi linier berganda."
      ]
    },
    {
      "cell_type": "markdown",
      "metadata": {
        "id": "dX4HGyltcoeO",
        "colab_type": "text"
      },
      "source": [
        "Contoh penggunaan analisis regresi linier sederhana antara lain:\n",
        " \n",
        "\n",
        "*   Hubungan antara jumlah pekerja dengan jumlah produksi\n",
        "*   Hubungan antara lama waktu bekerja dengan jabatan yang dimiliki saat ini\n",
        "*   Hubungan antara lama waktu PDKT dengan keberhasilan mendapat jodoh"
      ]
    },
    {
      "cell_type": "markdown",
      "metadata": {
        "id": "SgQs3E5LfDin",
        "colab_type": "text"
      },
      "source": [
        "<img src = \"https://upload.wikimedia.org/wikipedia/commons/thumb/3/3a/Linear_regression.svg/1200px-Linear_regression.svg.png\" align = \"center\">\n",
        "\n",
        "<center>Gambar 1. Contoh Regresi Linier Sederhana</center>\n",
        "<center>https://en.wikipedia.org/wiki/Linear_regression</center>\n",
        "\n",
        "\n",
        "Secara sederhana regresi linier adalah teknik untuk memprediksi sebuah nilai dari variable Y (variabel dependen) berdasarkan beberapa variabel tertentu X (variabel independen) jika terdapat hubungan linier antara X dan Y. Untuk teori lengkap mengenai regresi linier sederhana, dapat dilihat artikel tulisan ole **R. Kukuh** di medium pada [tautan berikut ini](https://medium.com/machine-learning-id/simple-linear-regression-teori-d4abebd1ade2)"
      ]
    },
    {
      "cell_type": "markdown",
      "metadata": {
        "id": "6WytJORniMvM",
        "colab_type": "text"
      },
      "source": [
        "Dapat kita lihat juga bahwa garis regresi yang kita buat tidak tepat mengenai semua titik-titik variabelnya. Jarak dari garis regresi ke titik-titik variabel ini lah yang akan menjadi nilai error dari permodelan regresi kita\n",
        "\n",
        "<center><img src=\"https://community.cloudera.com/t5/image/serverpage/image-id/25068iFF075A5AEC3B8528/image-size/medium?v=1.0&px=400\"></center>\n",
        "\n",
        "<center>Gambar 2. Perhitung Error Regresi Linier Sederhana</center>\n",
        "<center>https://community.cloudera.com/t5/Community-Articles/Understanding-Linear-Regression/ta-p/281391</center>\n"
      ]
    },
    {
      "cell_type": "markdown",
      "metadata": {
        "id": "YuzpOX-KnvaN",
        "colab_type": "text"
      },
      "source": [
        "# Bermain dengan Data sembarang\n",
        "\n",
        "\n",
        "---\n",
        "Untuk memberi gambaran mengenai regresi linier sederhana, kita coba buat suatu data buatan dan mencari hubungan antara keduanya\n",
        "\n"
      ]
    },
    {
      "cell_type": "code",
      "metadata": {
        "id": "lZuLp8cdoC0X",
        "colab_type": "code",
        "colab": {}
      },
      "source": [
        "#import library dan package yang dibutuhkan\n",
        "\n",
        "import numpy as np #untuk perhitungan saintifik\n",
        "import matplotlib.pyplot as plt #untuk plotting\n",
        "from sklearn.linear_model import LinearRegression #import library LinearRegression dari scikit-learn"
      ],
      "execution_count": 1,
      "outputs": []
    },
    {
      "cell_type": "code",
      "metadata": {
        "id": "8-vn9DlOonrY",
        "colab_type": "code",
        "colab": {}
      },
      "source": [
        "#buat data\n",
        "\n",
        "penjualan = np.array([6,5,5,4,4,3,2,2,2,1])\n",
        "harga = np.array([16000, 18000, 27000, 34000, 50000, 68000, 65000, 81000, 85000, 90000])"
      ],
      "execution_count": 2,
      "outputs": []
    },
    {
      "cell_type": "code",
      "metadata": {
        "id": "FlOjEDnUpuc3",
        "colab_type": "code",
        "colab": {
          "base_uri": "https://localhost:8080/",
          "height": 282
        },
        "outputId": "be9b9030-cf87-474b-fd7a-4d41df7b50b9"
      },
      "source": [
        "#buat plot\n",
        "%matplotlib inline\n",
        "plt.scatter (penjualan, harga)"
      ],
      "execution_count": 4,
      "outputs": [
        {
          "output_type": "execute_result",
          "data": {
            "text/plain": [
              "<matplotlib.collections.PathCollection at 0x7feff7299d68>"
            ]
          },
          "metadata": {
            "tags": []
          },
          "execution_count": 4
        },
        {
          "output_type": "display_data",
          "data": {
            "image/png": "[encoded data removed]",
            "text/plain": [
              "<Figure size 432x288 with 1 Axes>"
            ]
          },
          "metadata": {
            "tags": [],
            "needs_background": "light"
          }
        }
      ]
    },
    {
      "cell_type": "code",
      "metadata": {
        "id": "zIhRRH7BpxvK",
        "colab_type": "code",
        "colab": {
          "base_uri": "https://localhost:8080/",
          "height": 34
        },
        "outputId": "66476251-c8f4-4e56-e9af-0a5ccd559ec2"
      },
      "source": [
        "#buat permodelan regresi\n",
        "\n",
        "penjualan = penjualan.reshape (-1,1) #kita tukar baris dan kolom variabel ini, agar bisa dikalikan dalam operasi matriks\n",
        "#untuk lebih lengkapnya baca teori soal perhitungan regresi linier\n",
        "\n",
        "linreg = LinearRegression()\n",
        "linreg.fit(penjualan, harga)"
      ],
      "execution_count": 6,
      "outputs": [
        {
          "output_type": "execute_result",
          "data": {
            "text/plain": [
              "LinearRegression(copy_X=True, fit_intercept=True, n_jobs=None, normalize=False)"
            ]
          },
          "metadata": {
            "tags": []
          },
          "execution_count": 6
        }
      ]
    },
    {
      "cell_type": "code",
      "metadata": {
        "id": "HVWwN1bfp5iu",
        "colab_type": "code",
        "colab": {
          "base_uri": "https://localhost:8080/",
          "height": 282
        },
        "outputId": "4d4001b1-653b-4fa7-f859-f21921b27d97"
      },
      "source": [
        "#plot hasil regresi\n",
        "\n",
        "plt.scatter(penjualan, harga, color='red')\n",
        "plt.plot(penjualan, linreg.predict(penjualan))"
      ],
      "execution_count": 8,
      "outputs": [
        {
          "output_type": "execute_result",
          "data": {
            "text/plain": [
              "[<matplotlib.lines.Line2D at 0x7feff72b32b0>]"
            ]
          },
          "metadata": {
            "tags": []
          },
          "execution_count": 8
        },
        {
          "output_type": "display_data",
          "data": {
            "image/png": "[encoded data removed]",
            "text/plain": [
              "<Figure size 432x288 with 1 Axes>"
            ]
          },
          "metadata": {
            "tags": [],
            "needs_background": "light"
          }
        }
      ]
    },
    {
      "cell_type": "markdown",
      "metadata": {
        "id": "k56GQWu8xAi8",
        "colab_type": "text"
      },
      "source": [
        "Kita dapat melihat hubungan antara kedua variabel yang kita buat. Dalam hal ini saya membuat hubungan antara jumlah penjualan dengan harga barang. Dapat dilihat, semakin murah harga barang, maka jumlah penjualan naik."
      ]
    },
    {
      "cell_type": "markdown",
      "metadata": {
        "id": "hipybxKJjrzm",
        "colab_type": "text"
      },
      "source": [
        "# Bermain dengan Dataset\n",
        "\n",
        "\n",
        "---\n",
        "\n",
        "\n",
        "Pada notebook ini, kita akan belajar cara menggunakan library scikit-learn pada python untuk membuat permodelan regresi linier sederhana. Data yang akan kita gunakan adalah dataset konsumsi bahan bakar pada mobil yang kita dapat dari **IBM Object Storage**"
      ]
    },
    {
      "cell_type": "code",
      "metadata": {
        "id": "rZ02nnNBiMee",
        "colab_type": "code",
        "colab": {}
      },
      "source": [
        "#import library dan package yang dibutuhkan\n",
        "\n",
        "import pandas as pd #untuk dataframe\n",
        "import pylab as pl #untuk plotting\n",
        "%matplotlib inline"
      ],
      "execution_count": 10,
      "outputs": []
    },
    {
      "cell_type": "code",
      "metadata": {
        "id": "0-2-S_dyayYR",
        "colab_type": "code",
        "colab": {
          "base_uri": "https://localhost:8080/",
          "height": 204
        },
        "outputId": "b88c92e3-2b93-49b8-8207-c51a3114fbd2"
      },
      "source": [
        "#download data\n",
        "\n",
        "!wget -O FuelConsumption.csv https://s3-api.us-geo.objectstorage.softlayer.net/cf-courses-data/CognitiveClass/ML0101ENv3/labs/FuelConsumptionCo2.csv"
      ],
      "execution_count": 11,
      "outputs": [
        {
          "output_type": "stream",
          "text": [
            "--2020-06-28 16:07:23--  https://s3-api.us-geo.objectstorage.softlayer.net/cf-courses-data/CognitiveClass/ML0101ENv3/labs/FuelConsumptionCo2.csv\n",
            "Resolving s3-api.us-geo.objectstorage.softlayer.net (s3-api.us-geo.objectstorage.softlayer.net)... 67.228.254.196\n",
            "Connecting to s3-api.us-geo.objectstorage.softlayer.net (s3-api.us-geo.objectstorage.softlayer.net)|67.228.254.196|:443... connected.\n",
            "HTTP request sent, awaiting response... 200 OK\n",
            "Length: 72629 (71K) [text/csv]\n",
            "Saving to: ‘FuelConsumption.csv’\n",
            "\n",
            "\rFuelConsumption.csv   0%[                    ]       0  --.-KB/s               \rFuelConsumption.csv 100%[===================>]  70.93K  --.-KB/s    in 0.04s   \n",
            "\n",
            "2020-06-28 16:07:23 (1.57 MB/s) - ‘FuelConsumption.csv’ saved [72629/72629]\n",
            "\n"
          ],
          "name": "stdout"
        }
      ]
    },
    {
      "cell_type": "markdown",
      "metadata": {
        "id": "-gF5KxCCk1O9",
        "colab_type": "text"
      },
      "source": [
        "`FuelConsumption.csv`:\n",
        "\n",
        "Dataset ini berisi data konsumsi bahan bakal dan estimasi emisi karbon dioksida pada beberapa model kendaraan yang dijual di Canada. Dataset berisi data:\n",
        "\n",
        "\n",
        "- **MODELYEAR** \n",
        "- **MAKE** \n",
        "- **MODEL** \n",
        "- **VEHICLE CLASS** \n",
        "- **ENGINE SIZE** \n",
        "- **CYLINDERS** \n",
        "- **TRANSMISSION** \n",
        "- **FUEL CONSUMPTION in CITY(L/100 km)** \n",
        "- **FUEL CONSUMPTION in HWY (L/100 km)** \n",
        "- **FUEL CONSUMPTION COMB (L/100 km)** \n",
        "- **CO2 EMISSIONS (g/km)** "
      ]
    },
    {
      "cell_type": "code",
      "metadata": {
        "id": "DSmAg7Tlk2N9",
        "colab_type": "code",
        "colab": {
          "base_uri": "https://localhost:8080/",
          "height": 204
        },
        "outputId": "2067bb23-9328-4024-e39f-e049e21db24e"
      },
      "source": [
        "df = pd.read_csv(\"FuelConsumption.csv\") #membaca data\n",
        "\n",
        "# melihat 5 baris pertama data\n",
        "df.head()"
      ],
      "execution_count": 12,
      "outputs": [
        {
          "output_type": "execute_result",
          "data": {
            "text/html": [
              "<div>\n",
              "<style scoped>\n",
              "    .dataframe tbody tr th:only-of-type {\n",
              "        vertical-align: middle;\n",
              "    }\n",
              "\n",
              "    .dataframe tbody tr th {\n",
              "        vertical-align: top;\n",
              "    }\n",
              "\n",
              "    .dataframe thead th {\n",
              "        text-align: right;\n",
              "    }\n",
              "</style>\n",
              "<table border=\"1\" class=\"dataframe\">\n",
              "  <thead>\n",
              "    <tr style=\"text-align: right;\">\n",
              "      <th></th>\n",
              "      <th>MODELYEAR</th>\n",
              "      <th>MAKE</th>\n",
              "      <th>MODEL</th>\n",
              "      <th>VEHICLECLASS</th>\n",
              "      <th>ENGINESIZE</th>\n",
              "      <th>CYLINDERS</th>\n",
              "      <th>TRANSMISSION</th>\n",
              "      <th>FUELTYPE</th>\n",
              "      <th>FUELCONSUMPTION_CITY</th>\n",
              "      <th>FUELCONSUMPTION_HWY</th>\n",
              "      <th>FUELCONSUMPTION_COMB</th>\n",
              "      <th>FUELCONSUMPTION_COMB_MPG</th>\n",
              "      <th>CO2EMISSIONS</th>\n",
              "    </tr>\n",
              "  </thead>\n",
              "  <tbody>\n",
              "    <tr>\n",
              "      <th>0</th>\n",
              "      <td>2014</td>\n",
              "      <td>ACURA</td>\n",
              "      <td>ILX</td>\n",
              "      <td>COMPACT</td>\n",
              "      <td>2.0</td>\n",
              "      <td>4</td>\n",
              "      <td>AS5</td>\n",
              "      <td>Z</td>\n",
              "      <td>9.9</td>\n",
              "      <td>6.7</td>\n",
              "      <td>8.5</td>\n",
              "      <td>33</td>\n",
              "      <td>196</td>\n",
              "    </tr>\n",
              "    <tr>\n",
              "      <th>1</th>\n",
              "      <td>2014</td>\n",
              "      <td>ACURA</td>\n",
              "      <td>ILX</td>\n",
              "      <td>COMPACT</td>\n",
              "      <td>2.4</td>\n",
              "      <td>4</td>\n",
              "      <td>M6</td>\n",
              "      <td>Z</td>\n",
              "      <td>11.2</td>\n",
              "      <td>7.7</td>\n",
              "      <td>9.6</td>\n",
              "      <td>29</td>\n",
              "      <td>221</td>\n",
              "    </tr>\n",
              "    <tr>\n",
              "      <th>2</th>\n",
              "      <td>2014</td>\n",
              "      <td>ACURA</td>\n",
              "      <td>ILX HYBRID</td>\n",
              "      <td>COMPACT</td>\n",
              "      <td>1.5</td>\n",
              "      <td>4</td>\n",
              "      <td>AV7</td>\n",
              "      <td>Z</td>\n",
              "      <td>6.0</td>\n",
              "      <td>5.8</td>\n",
              "      <td>5.9</td>\n",
              "      <td>48</td>\n",
              "      <td>136</td>\n",
              "    </tr>\n",
              "    <tr>\n",
              "      <th>3</th>\n",
              "      <td>2014</td>\n",
              "      <td>ACURA</td>\n",
              "      <td>MDX 4WD</td>\n",
              "      <td>SUV - SMALL</td>\n",
              "      <td>3.5</td>\n",
              "      <td>6</td>\n",
              "      <td>AS6</td>\n",
              "      <td>Z</td>\n",
              "      <td>12.7</td>\n",
              "      <td>9.1</td>\n",
              "      <td>11.1</td>\n",
              "      <td>25</td>\n",
              "      <td>255</td>\n",
              "    </tr>\n",
              "    <tr>\n",
              "      <th>4</th>\n",
              "      <td>2014</td>\n",
              "      <td>ACURA</td>\n",
              "      <td>RDX AWD</td>\n",
              "      <td>SUV - SMALL</td>\n",
              "      <td>3.5</td>\n",
              "      <td>6</td>\n",
              "      <td>AS6</td>\n",
              "      <td>Z</td>\n",
              "      <td>12.1</td>\n",
              "      <td>8.7</td>\n",
              "      <td>10.6</td>\n",
              "      <td>27</td>\n",
              "      <td>244</td>\n",
              "    </tr>\n",
              "  </tbody>\n",
              "</table>\n",
              "</div>"
            ],
            "text/plain": [
              "   MODELYEAR   MAKE  ... FUELCONSUMPTION_COMB_MPG CO2EMISSIONS\n",
              "0       2014  ACURA  ...                       33          196\n",
              "1       2014  ACURA  ...                       29          221\n",
              "2       2014  ACURA  ...                       48          136\n",
              "3       2014  ACURA  ...                       25          255\n",
              "4       2014  ACURA  ...                       27          244\n",
              "\n",
              "[5 rows x 13 columns]"
            ]
          },
          "metadata": {
            "tags": []
          },
          "execution_count": 12
        }
      ]
    },
    {
      "cell_type": "code",
      "metadata": {
        "id": "6k7Ov925k8sl",
        "colab_type": "code",
        "colab": {
          "base_uri": "https://localhost:8080/",
          "height": 328
        },
        "outputId": "e09b3a90-c296-4bd4-dec5-ada3c8c5cc4b"
      },
      "source": [
        "#kita ambil kolom mana saja yang akan kita analisis, dan membuang sisanya\n",
        "\n",
        "cdf = df[['ENGINESIZE','CYLINDERS','FUELCONSUMPTION_CITY','CO2EMISSIONS']]\n",
        "cdf.head(9)"
      ],
      "execution_count": 13,
      "outputs": [
        {
          "output_type": "execute_result",
          "data": {
            "text/html": [
              "<div>\n",
              "<style scoped>\n",
              "    .dataframe tbody tr th:only-of-type {\n",
              "        vertical-align: middle;\n",
              "    }\n",
              "\n",
              "    .dataframe tbody tr th {\n",
              "        vertical-align: top;\n",
              "    }\n",
              "\n",
              "    .dataframe thead th {\n",
              "        text-align: right;\n",
              "    }\n",
              "</style>\n",
              "<table border=\"1\" class=\"dataframe\">\n",
              "  <thead>\n",
              "    <tr style=\"text-align: right;\">\n",
              "      <th></th>\n",
              "      <th>ENGINESIZE</th>\n",
              "      <th>CYLINDERS</th>\n",
              "      <th>FUELCONSUMPTION_CITY</th>\n",
              "      <th>CO2EMISSIONS</th>\n",
              "    </tr>\n",
              "  </thead>\n",
              "  <tbody>\n",
              "    <tr>\n",
              "      <th>0</th>\n",
              "      <td>2.0</td>\n",
              "      <td>4</td>\n",
              "      <td>9.9</td>\n",
              "      <td>196</td>\n",
              "    </tr>\n",
              "    <tr>\n",
              "      <th>1</th>\n",
              "      <td>2.4</td>\n",
              "      <td>4</td>\n",
              "      <td>11.2</td>\n",
              "      <td>221</td>\n",
              "    </tr>\n",
              "    <tr>\n",
              "      <th>2</th>\n",
              "      <td>1.5</td>\n",
              "      <td>4</td>\n",
              "      <td>6.0</td>\n",
              "      <td>136</td>\n",
              "    </tr>\n",
              "    <tr>\n",
              "      <th>3</th>\n",
              "      <td>3.5</td>\n",
              "      <td>6</td>\n",
              "      <td>12.7</td>\n",
              "      <td>255</td>\n",
              "    </tr>\n",
              "    <tr>\n",
              "      <th>4</th>\n",
              "      <td>3.5</td>\n",
              "      <td>6</td>\n",
              "      <td>12.1</td>\n",
              "      <td>244</td>\n",
              "    </tr>\n",
              "    <tr>\n",
              "      <th>5</th>\n",
              "      <td>3.5</td>\n",
              "      <td>6</td>\n",
              "      <td>11.9</td>\n",
              "      <td>230</td>\n",
              "    </tr>\n",
              "    <tr>\n",
              "      <th>6</th>\n",
              "      <td>3.5</td>\n",
              "      <td>6</td>\n",
              "      <td>11.8</td>\n",
              "      <td>232</td>\n",
              "    </tr>\n",
              "    <tr>\n",
              "      <th>7</th>\n",
              "      <td>3.7</td>\n",
              "      <td>6</td>\n",
              "      <td>12.8</td>\n",
              "      <td>255</td>\n",
              "    </tr>\n",
              "    <tr>\n",
              "      <th>8</th>\n",
              "      <td>3.7</td>\n",
              "      <td>6</td>\n",
              "      <td>13.4</td>\n",
              "      <td>267</td>\n",
              "    </tr>\n",
              "  </tbody>\n",
              "</table>\n",
              "</div>"
            ],
            "text/plain": [
              "   ENGINESIZE  CYLINDERS  FUELCONSUMPTION_CITY  CO2EMISSIONS\n",
              "0         2.0          4                   9.9           196\n",
              "1         2.4          4                  11.2           221\n",
              "2         1.5          4                   6.0           136\n",
              "3         3.5          6                  12.7           255\n",
              "4         3.5          6                  12.1           244\n",
              "5         3.5          6                  11.9           230\n",
              "6         3.5          6                  11.8           232\n",
              "7         3.7          6                  12.8           255\n",
              "8         3.7          6                  13.4           267"
            ]
          },
          "metadata": {
            "tags": []
          },
          "execution_count": 13
        }
      ]
    },
    {
      "cell_type": "markdown",
      "metadata": {
        "id": "XMVWI8Nwr_z4",
        "colab_type": "text"
      },
      "source": [
        "Sebagai contoh, kita lihat hubungan antara variabel konsumsi bahan bakar di kota dengan emisi CO2"
      ]
    },
    {
      "cell_type": "code",
      "metadata": {
        "id": "i66xbcOJlIJV",
        "colab_type": "code",
        "colab": {
          "base_uri": "https://localhost:8080/",
          "height": 281
        },
        "outputId": "759827bb-7c8d-419a-f761-a05e00b53bdf"
      },
      "source": [
        "#Kita plot hubungannya\n",
        "\n",
        "plt.scatter(cdf.FUELCONSUMPTION_CITY, cdf.CO2EMISSIONS,  color='blue')\n",
        "plt.xlabel(\"FUELCONSUMPTION_CITY\")\n",
        "plt.ylabel(\"Emission\")\n",
        "plt.show()"
      ],
      "execution_count": 14,
      "outputs": [
        {
          "output_type": "display_data",
          "data": {
            "image/png": "[encoded data removed]",
            "text/plain": [
              "<Figure size 432x288 with 1 Axes>"
            ]
          },
          "metadata": {
            "tags": [],
            "needs_background": "light"
          }
        }
      ]
    },
    {
      "cell_type": "markdown",
      "metadata": {
        "id": "Quk3UHHfsFTn",
        "colab_type": "text"
      },
      "source": [
        "Sebagai contoh juga, kita lihat hubungan antara variabel ukuran mesin dengan emisi CO2"
      ]
    },
    {
      "cell_type": "code",
      "metadata": {
        "id": "X-EneTn-lKBg",
        "colab_type": "code",
        "colab": {
          "base_uri": "https://localhost:8080/",
          "height": 280
        },
        "outputId": "26af32b9-54ee-453b-d823-2af82434b5a3"
      },
      "source": [
        "#Kita plot hubungannya\n",
        "\n",
        "plt.scatter(cdf.ENGINESIZE, cdf.CO2EMISSIONS,  color='blue')\n",
        "plt.xlabel(\"Engine size\")\n",
        "plt.ylabel(\"Emission\")\n",
        "plt.show()"
      ],
      "execution_count": 16,
      "outputs": [
        {
          "output_type": "display_data",
          "data": {
            "image/png": "[encoded data removed]",
            "text/plain": [
              "<Figure size 432x288 with 1 Axes>"
            ]
          },
          "metadata": {
            "tags": [],
            "needs_background": "light"
          }
        }
      ]
    },
    {
      "cell_type": "markdown",
      "metadata": {
        "id": "nQtL6ba0sdAH",
        "colab_type": "text"
      },
      "source": [
        "# Melakukan Data Splitting\n",
        "\n",
        "Dalam membuat permodelan Machine Learning, merupakan suatu hal yang lazim untuk membagi data ke dalam data latih (train) dan data uji (test). Kita gunakan data latih untuk melatih model, dan data uji untuk menilai performa dari permodelan yang kita buat. Hal ini kita lakukan untuk mensimulasikan, apakah model kita dapat bekerja dengan baik dalam menganalisa kasus yang belum pernah ia temui sebelumnya"
      ]
    },
    {
      "cell_type": "markdown",
      "metadata": {
        "id": "2luIxszqtlo3",
        "colab_type": "text"
      },
      "source": [
        "<center><img src = \"https://miro.medium.com/max/936/0*VH8IKfRP4mewrsTo.png\"></center>\n",
        "<center> Gambar 3. Pembagian Data </center>\n",
        "\n",
        "Biasanya data latih akan berjumlah sekitar 70-80% dari semua data, dan sisanya adalah data latih."
      ]
    },
    {
      "cell_type": "code",
      "metadata": {
        "id": "uFlVCeYFmIP1",
        "colab_type": "code",
        "colab": {}
      },
      "source": [
        "#Membagi data\n",
        "\n",
        "msk = np.random.rand(len(df)) < 0.8\n",
        "train = cdf[msk]\n",
        "test = cdf[~msk]"
      ],
      "execution_count": 17,
      "outputs": []
    },
    {
      "cell_type": "markdown",
      "metadata": {
        "id": "Y70r-pI4uhW4",
        "colab_type": "text"
      },
      "source": [
        "Di sini kita akan mencari hubungan antara ukuran mesin dengan emisi CO2 pada kendaraan"
      ]
    },
    {
      "cell_type": "code",
      "metadata": {
        "id": "a9IVumErmR1V",
        "colab_type": "code",
        "colab": {
          "base_uri": "https://localhost:8080/",
          "height": 280
        },
        "outputId": "f4a5c009-c91d-4d4f-f5e6-ef298b6ac8ed"
      },
      "source": [
        "plt.scatter(train.ENGINESIZE, train.CO2EMISSIONS,  color='blue')\n",
        "plt.xlabel(\"Engine size\")\n",
        "plt.ylabel(\"Emission\")\n",
        "plt.show()"
      ],
      "execution_count": 18,
      "outputs": [
        {
          "output_type": "display_data",
          "data": {
            "image/png": "[encoded data removed]",
            "text/plain": [
              "<Figure size 432x288 with 1 Axes>"
            ]
          },
          "metadata": {
            "tags": [],
            "needs_background": "light"
          }
        }
      ]
    },
    {
      "cell_type": "markdown",
      "metadata": {
        "id": "skoz9yf3vFdX",
        "colab_type": "text"
      },
      "source": [
        "# Membuat Model Regresi"
      ]
    },
    {
      "cell_type": "code",
      "metadata": {
        "id": "nutJG9E0lcNG",
        "colab_type": "code",
        "colab": {
          "base_uri": "https://localhost:8080/",
          "height": 51
        },
        "outputId": "3b46681d-aa77-417b-81a1-f887e773977b"
      },
      "source": [
        "#Membuat model regresi\n",
        "regr = LinearRegression()\n",
        "train_x = np.asanyarray(train[['ENGINESIZE']])\n",
        "train_y = np.asanyarray(train[['CO2EMISSIONS']])\n",
        "regr.fit (train_x, train_y)\n",
        "\n",
        "# Koefisien model\n",
        "print ('Coefficients: ', regr.coef_)\n",
        "print ('Intercept: ',regr.intercept_)"
      ],
      "execution_count": 19,
      "outputs": [
        {
          "output_type": "stream",
          "text": [
            "Coefficients:  [[39.09332068]]\n",
            "Intercept:  [125.62023245]\n"
          ],
          "name": "stdout"
        }
      ]
    },
    {
      "cell_type": "markdown",
      "metadata": {
        "id": "YOusJRkhvPhV",
        "colab_type": "text"
      },
      "source": [
        "Dalam membuat model regresi, sebenarnya kita mencari nilai-nilai *Coefficient* (gradien/kemiringan) dan *Intercept* yang kita sebut parameter model. Untuk memahami hal ini, disarankan untuk mempelajari persamaan garis dan teori dasar regresi linier pada tautan yang sudah diberikan."
      ]
    },
    {
      "cell_type": "code",
      "metadata": {
        "id": "qnfl9sCCldtp",
        "colab_type": "code",
        "colab": {
          "base_uri": "https://localhost:8080/",
          "height": 297
        },
        "outputId": "4d36dc94-0601-4d20-dba9-a96834d52b55"
      },
      "source": [
        "#Plot hasil regresi\n",
        "\n",
        "plt.scatter(train.ENGINESIZE, train.CO2EMISSIONS,  color='blue')\n",
        "plt.plot(train_x, regr.coef_[0][0]*train_x + regr.intercept_[0], '-r')\n",
        "plt.xlabel(\"Engine size\")\n",
        "plt.ylabel(\"Emission\")"
      ],
      "execution_count": 20,
      "outputs": [
        {
          "output_type": "execute_result",
          "data": {
            "text/plain": [
              "Text(0, 0.5, 'Emission')"
            ]
          },
          "metadata": {
            "tags": []
          },
          "execution_count": 20
        },
        {
          "output_type": "display_data",
          "data": {
            "image/png": "[encoded data removed]",
            "text/plain": [
              "<Figure size 432x288 with 1 Axes>"
            ]
          },
          "metadata": {
            "tags": [],
            "needs_background": "light"
          }
        }
      ]
    },
    {
      "cell_type": "code",
      "metadata": {
        "id": "YzEoaT0rlfY8",
        "colab_type": "code",
        "colab": {
          "base_uri": "https://localhost:8080/",
          "height": 68
        },
        "outputId": "f690ee56-0a79-4321-870c-065f57c58bb5"
      },
      "source": [
        "#Menghitung error\n",
        "\n",
        "from sklearn.metrics import r2_score\n",
        "\n",
        "test_x = np.asanyarray(test[['ENGINESIZE']])\n",
        "test_y = np.asanyarray(test[['CO2EMISSIONS']])\n",
        "test_y_ = regr.predict(test_x)\n",
        "\n",
        "print(\"Mean absolute error: %.2f\" % np.mean(np.absolute(test_y_ - test_y)))\n",
        "print(\"Residual sum of squares (MSE): %.2f\" % np.mean((test_y_ - test_y) ** 2))\n",
        "print(\"R2-score: %.2f\" % r2_score(test_y_ , test_y) )"
      ],
      "execution_count": 21,
      "outputs": [
        {
          "output_type": "stream",
          "text": [
            "Mean absolute error: 27.50\n",
            "Residual sum of squares (MSE): 1253.08\n",
            "R2-score: 0.61\n"
          ],
          "name": "stdout"
        }
      ]
    },
    {
      "cell_type": "markdown",
      "metadata": {
        "id": "nJcpIRHDv0P4",
        "colab_type": "text"
      },
      "source": [
        "Dapat kita lihat, bahwa error yang dihasilkan model regresi yang kita buat cukup besar. Hal ini dikarenakan masih banyak faktor lain yang memengaruhi emisi CO2 pada kasus di atas. Permodelan regresi linier sederhan masih tergolong metode *machine learning* yang masih dasar. Oleh karena itu, kita perlu menggunakan metode *machine learning* yang lebih *powerful* lagi."
      ]
    }
  ]
}